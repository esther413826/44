{
  "nbformat": 4,
  "nbformat_minor": 0,
  "metadata": {
    "colab": {
      "provenance": []
    },
    "kernelspec": {
      "name": "python3",
      "display_name": "Python 3"
    },
    "language_info": {
      "name": "python"
    }
  },
  "cells": [
    {
      "cell_type": "code",
      "execution_count": 18,
      "metadata": {
        "colab": {
          "base_uri": "https://localhost:8080/"
        },
        "id": "T1Vv5_m9_F9O",
        "outputId": "d36a8477-d1fd-4d7f-f145-ff256294d208"
      },
      "outputs": [
        {
          "output_type": "stream",
          "name": "stdout",
          "text": [
            "輸入範圍3\n",
            "1*1=1\n",
            "1*2=2\n",
            "1*3=3\n",
            "2*1=2\n",
            "2*2=4\n",
            "2*3=6\n",
            "3*1=3\n",
            "3*2=6\n",
            "3*3=9\n"
          ]
        }
      ],
      "source": [
        "number=int(input('輸入範圍'))\n",
        "for i in range(1, number+1):\n",
        "  for j in range(1,number+1):\n",
        "    print(f\"{i}*{j}={i*j}\")"
      ]
    },
    {
      "cell_type": "code",
      "source": [
        "import random\n",
        "target_number=random.randint(1,100)\n",
        "\n",
        "print(\"歡迎猜家數字遊戲!\")\n",
        "ans=0\n",
        "while ans==0:\n",
        "  guess=int(input(\"你的猜測是?\"))\n",
        "  if guess<target_number:\n",
        "    print(\"數字太小囉!\")\n",
        "  elif guess>target_number:\n",
        "    print(\"數字太大囉!\")\n",
        "  else:\n",
        "    print(f\"答對囉!\")\n",
        "    ans=1\n",
        "print(\"遊戲結束\")"
      ],
      "metadata": {
        "colab": {
          "base_uri": "https://localhost:8080/"
        },
        "id": "EdbwhI5ACh1o",
        "outputId": "3e2fa802-14ae-42fe-f3b9-e3f41270401e"
      },
      "execution_count": null,
      "outputs": [
        {
          "output_type": "stream",
          "name": "stdout",
          "text": [
            "歡迎猜家數字遊戲!\n",
            "你的猜測是?5\n",
            "數字太小囉!\n",
            "你的猜測是?6\n",
            "數字太小囉!\n",
            "你的猜測是?56\n",
            "數字太小囉!\n",
            "你的猜測是?99\n",
            "數字太大囉!\n"
          ]
        }
      ]
    },
    {
      "cell_type": "markdown",
      "source": [],
      "metadata": {
        "id": "T8iSJU56Cag5"
      }
    },
    {
      "cell_type": "markdown",
      "source": [],
      "metadata": {
        "id": "bmhOb2ICCa0Y"
      }
    }
  ]
}